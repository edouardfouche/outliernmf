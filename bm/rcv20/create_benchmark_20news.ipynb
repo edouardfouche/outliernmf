{
 "cells": [
  {
   "cell_type": "code",
   "execution_count": 1,
   "metadata": {
    "collapsed": true
   },
   "outputs": [],
   "source": [
    "import os, glob\n",
    "import numpy as np\n",
    "import copy\n",
    "import random\n",
    "from shutil import copyfile"
   ]
  },
  {
   "cell_type": "code",
   "execution_count": 2,
   "metadata": {
    "collapsed": true
   },
   "outputs": [],
   "source": [
    "files1 = glob.glob('/home/fouchee/git/outlier-documents/data/20news-18828/comp.sys.ibm.pc.hardware/*')\n",
    "files2 = glob.glob('/home/fouchee/git/outlier-documents/data/20news-18828/comp.sys.mac.hardware/*')"
   ]
  },
  {
   "cell_type": "code",
   "execution_count": 3,
   "metadata": {
    "collapsed": true
   },
   "outputs": [],
   "source": [
    "outliers = glob.glob('/home/fouchee/git/outlier-documents/data/20news-18828/comp.os.ms-windows.misc/*')"
   ]
  },
  {
   "cell_type": "code",
   "execution_count": 4,
   "metadata": {
    "collapsed": true
   },
   "outputs": [],
   "source": [
    "nbenchmarks = 10"
   ]
  },
  {
   "cell_type": "code",
   "execution_count": 5,
   "metadata": {},
   "outputs": [
    {
     "data": {
      "text/plain": [
       "1943"
      ]
     },
     "execution_count": 5,
     "metadata": {},
     "output_type": "execute_result"
    }
   ],
   "source": [
    "len(files1 + files2)"
   ]
  },
  {
   "cell_type": "code",
   "execution_count": 6,
   "metadata": {},
   "outputs": [],
   "source": [
    "inlierpaths = files1 + files2"
   ]
  },
  {
   "cell_type": "code",
   "execution_count": 7,
   "metadata": {},
   "outputs": [],
   "source": [
    "for i,path in enumerate(inlierpaths):\n",
    "    newpath = \"data/1.0\" + path[53:]\n",
    "    copyfile(path, newpath)\n",
    "    inlierpaths[i] = newpath\n",
    "    \n",
    "for i,path in enumerate(outliers):\n",
    "    newpath = \"data/1.0\" + path[53:]\n",
    "    copyfile(path, newpath)\n",
    "    outliers[i] = newpath"
   ]
  },
  {
   "cell_type": "code",
   "execution_count": 8,
   "metadata": {},
   "outputs": [
    {
     "data": {
      "text/plain": [
       "'data/1.0/comp.os.ms-windows.misc/9476'"
      ]
     },
     "execution_count": 8,
     "metadata": {},
     "output_type": "execute_result"
    }
   ],
   "source": [
    "newpath"
   ]
  },
  {
   "cell_type": "code",
   "execution_count": 9,
   "metadata": {
    "collapsed": true
   },
   "outputs": [],
   "source": [
    "for x in range(nbenchmarks):\n",
    "    benchmark = open(\"rcv20.%s.data\"%(x+1), 'w')\n",
    "        \n",
    "    outliersamples = random.sample(outliers, 50)\n",
    "    tmpinlierpaths = copy.deepcopy(inlierpaths)\n",
    "    \n",
    "    positions = [0 for x in range(len(tmpinlierpaths))] + [1 for x in range(50)]\n",
    "    \n",
    "    random.shuffle(positions)\n",
    "    random.shuffle(tmpinlierpaths)\n",
    "    random.shuffle(outliersamples)\n",
    "    \n",
    "    for x in positions:\n",
    "        if x == 1:\n",
    "            file = outliersamples.pop()\n",
    "            benchmark.write(\"bm/rcv20/\" + file + \"\\t\" + \"1\\n\")\n",
    "        else:\n",
    "            file = tmpinlierpaths.pop()\n",
    "            benchmark.write(\"bm/rcv20/\" + file + \"\\t\" + \"0\\n\")\n",
    "    benchmark.close()\n",
    "    "
   ]
  },
  {
   "cell_type": "code",
   "execution_count": null,
   "metadata": {
    "collapsed": true
   },
   "outputs": [],
   "source": []
  }
 ],
 "metadata": {
  "kernelspec": {
   "display_name": "Python 3",
   "language": "python",
   "name": "python3"
  },
  "language_info": {
   "codemirror_mode": {
    "name": "ipython",
    "version": 3
   },
   "file_extension": ".py",
   "mimetype": "text/x-python",
   "name": "python",
   "nbconvert_exporter": "python",
   "pygments_lexer": "ipython3",
   "version": "3.6.6"
  }
 },
 "nbformat": 4,
 "nbformat_minor": 2
}
