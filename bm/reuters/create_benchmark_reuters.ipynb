{
 "cells": [
  {
   "cell_type": "code",
   "execution_count": 1,
   "metadata": {
    "collapsed": true
   },
   "outputs": [],
   "source": [
    "import os, glob\n",
    "import numpy as np\n",
    "import random\n",
    "import copy"
   ]
  },
  {
   "cell_type": "code",
   "execution_count": 2,
   "metadata": {
    "collapsed": true
   },
   "outputs": [],
   "source": [
    "files = glob.glob('/home/fouchee/git/outlier-documents/data/reuters21578/*.sgm')"
   ]
  },
  {
   "cell_type": "code",
   "execution_count": 3,
   "metadata": {},
   "outputs": [
    {
     "data": {
      "text/plain": [
       "['/home/fouchee/git/outlier-documents/data/reuters21578/reut2-003.sgm',\n",
       " '/home/fouchee/git/outlier-documents/data/reuters21578/reut2-015.sgm',\n",
       " '/home/fouchee/git/outlier-documents/data/reuters21578/reut2-002.sgm',\n",
       " '/home/fouchee/git/outlier-documents/data/reuters21578/reut2-009.sgm',\n",
       " '/home/fouchee/git/outlier-documents/data/reuters21578/reut2-020.sgm',\n",
       " '/home/fouchee/git/outlier-documents/data/reuters21578/reut2-011.sgm',\n",
       " '/home/fouchee/git/outlier-documents/data/reuters21578/reut2-010.sgm',\n",
       " '/home/fouchee/git/outlier-documents/data/reuters21578/reut2-019.sgm',\n",
       " '/home/fouchee/git/outlier-documents/data/reuters21578/reut2-012.sgm',\n",
       " '/home/fouchee/git/outlier-documents/data/reuters21578/reut2-007.sgm',\n",
       " '/home/fouchee/git/outlier-documents/data/reuters21578/reut2-018.sgm',\n",
       " '/home/fouchee/git/outlier-documents/data/reuters21578/reut2-017.sgm',\n",
       " '/home/fouchee/git/outlier-documents/data/reuters21578/reut2-021.sgm',\n",
       " '/home/fouchee/git/outlier-documents/data/reuters21578/reut2-008.sgm',\n",
       " '/home/fouchee/git/outlier-documents/data/reuters21578/reut2-016.sgm',\n",
       " '/home/fouchee/git/outlier-documents/data/reuters21578/reut2-014.sgm',\n",
       " '/home/fouchee/git/outlier-documents/data/reuters21578/reut2-001.sgm',\n",
       " '/home/fouchee/git/outlier-documents/data/reuters21578/reut2-013.sgm',\n",
       " '/home/fouchee/git/outlier-documents/data/reuters21578/reut2-004.sgm',\n",
       " '/home/fouchee/git/outlier-documents/data/reuters21578/reut2-006.sgm',\n",
       " '/home/fouchee/git/outlier-documents/data/reuters21578/reut2-005.sgm',\n",
       " '/home/fouchee/git/outlier-documents/data/reuters21578/reut2-000.sgm']"
      ]
     },
     "execution_count": 3,
     "metadata": {},
     "output_type": "execute_result"
    }
   ],
   "source": [
    "files"
   ]
  },
  {
   "cell_type": "code",
   "execution_count": 4,
   "metadata": {
    "collapsed": true
   },
   "outputs": [],
   "source": [
    "f = open('/home/fouchee/git/outlier-documents/data/reuters21578/reut2-003.sgm')"
   ]
  },
  {
   "cell_type": "code",
   "execution_count": 5,
   "metadata": {
    "collapsed": true
   },
   "outputs": [],
   "source": [
    "lines = []\n",
    "for file in files:\n",
    "    f = open(file, errors=\"ignore\")\n",
    "    lines = lines + f.readlines()"
   ]
  },
  {
   "cell_type": "code",
   "execution_count": 6,
   "metadata": {
    "collapsed": true
   },
   "outputs": [],
   "source": [
    "documents = dict()\n",
    "\n",
    "i = 0\n",
    "for line in lines:\n",
    "    if(line.startswith(\"<REUTERS\")):\n",
    "        documents[i] = documents.get(i, \"\") + line\n",
    "    elif(line.startswith(\"</REUTERS\")):\n",
    "        documents[i] = documents.get(i, \"\") + line\n",
    "        i += 1\n",
    "    else:\n",
    "        documents[i] = documents.get(i, \"\") + line"
   ]
  },
  {
   "cell_type": "code",
   "execution_count": 7,
   "metadata": {
    "collapsed": true
   },
   "outputs": [],
   "source": [
    "topics = dict()\n",
    "bodies = dict()\n",
    "\n",
    "for key in documents.keys():\n",
    "    text = documents[key]\n",
    "    body = text[text.find(\"<BODY>\")+6:text.find(\"</BODY>\")]\n",
    "    top = text[text.find(\"<TOPICS>\")+8:text.find(\"</TOPICS>\")]\n",
    "    \n",
    "    topics[key] = top\n",
    "    bodies[key] = body"
   ]
  },
  {
   "cell_type": "code",
   "execution_count": 8,
   "metadata": {},
   "outputs": [
    {
     "data": {
      "text/plain": [
       "21578"
      ]
     },
     "execution_count": 8,
     "metadata": {},
     "output_type": "execute_result"
    }
   ],
   "source": [
    "len(documents.keys())"
   ]
  },
  {
   "cell_type": "code",
   "execution_count": 9,
   "metadata": {
    "collapsed": true
   },
   "outputs": [],
   "source": [
    "# do not consider those with multiple topics\n",
    "for key in topics.keys():\n",
    "    if \"><\" in topics[key]:\n",
    "        topics[key] = ''"
   ]
  },
  {
   "cell_type": "code",
   "execution_count": 10,
   "metadata": {
    "collapsed": true
   },
   "outputs": [],
   "source": [
    "inliers = dict() # there are 6416, i.e., not matching really the reference \n",
    "outlierpool = dict()\n",
    "\n",
    "for key in documents.keys(): \n",
    "    if \"earn\" in topics[key]:\n",
    "        inliers[key] = bodies[key]\n",
    "    elif \"acq\" in topics[key]:\n",
    "        inliers[key] = bodies[key]\n",
    "    elif \"interest\" in topics[key]:\n",
    "        outlierpool[key] = bodies[key]\n",
    "    "
   ]
  },
  {
   "cell_type": "code",
   "execution_count": 11,
   "metadata": {},
   "outputs": [
    {
     "data": {
      "text/plain": [
       "6307"
      ]
     },
     "execution_count": 11,
     "metadata": {},
     "output_type": "execute_result"
    }
   ],
   "source": [
    "len(inliers.keys()) # still not matching really the reference 5768"
   ]
  },
  {
   "cell_type": "code",
   "execution_count": 12,
   "metadata": {},
   "outputs": [],
   "source": [
    "inlierpaths = []\n",
    "outlierpaths = []\n",
    "\n",
    "for key in inliers.keys(): \n",
    "    path = \"data/1.0/earnacq%s\"%key\n",
    "    f = open(path, \"w\")\n",
    "    f.write(inliers[key])\n",
    "    f.close()\n",
    "    inlierpaths = inlierpaths + [path]\n",
    "    \n",
    "for key in outlierpool.keys(): \n",
    "    path = \"data/1.0/interest%s\"%key\n",
    "    f = open(path, \"w\")\n",
    "    f.write(outlierpool[key])\n",
    "    f.close()\n",
    "    outlierpaths = outlierpaths + [path]"
   ]
  },
  {
   "cell_type": "code",
   "execution_count": 13,
   "metadata": {
    "collapsed": true
   },
   "outputs": [],
   "source": [
    "nbenchmarks = 10"
   ]
  },
  {
   "cell_type": "code",
   "execution_count": 14,
   "metadata": {
    "collapsed": true
   },
   "outputs": [],
   "source": [
    "for x in range(nbenchmarks):\n",
    "    benchmark = open(\"reuters.%s.data\"%(x+1), 'w')\n",
    "    \n",
    "    outliersamples = random.sample(outlierpaths,100)\n",
    "    tmpinlierpaths = copy.deepcopy(inlierpaths)\n",
    "    \n",
    "    positions = [0 for x in range(len(tmpinlierpaths))] + [1 for x in range(100)]\n",
    "    \n",
    "    random.shuffle(positions)\n",
    "    random.shuffle(tmpinlierpaths)\n",
    "    random.shuffle(outliersamples)\n",
    "    \n",
    "    for x in positions:\n",
    "        if x == 1:\n",
    "            file = outliersamples.pop()\n",
    "            benchmark.write(\"bm/reuters/\" + file + \"\\t\" + \"1\\n\")\n",
    "        else:\n",
    "            file = tmpinlierpaths.pop()\n",
    "            benchmark.write(\"bm/reuters/\" + file + \"\\t\" + \"0\\n\")\n",
    "    benchmark.close()"
   ]
  },
  {
   "cell_type": "code",
   "execution_count": null,
   "metadata": {
    "collapsed": true
   },
   "outputs": [],
   "source": []
  }
 ],
 "metadata": {
  "kernelspec": {
   "display_name": "Python 3",
   "language": "python",
   "name": "python3"
  },
  "language_info": {
   "codemirror_mode": {
    "name": "ipython",
    "version": 3
   },
   "file_extension": ".py",
   "mimetype": "text/x-python",
   "name": "python",
   "nbconvert_exporter": "python",
   "pygments_lexer": "ipython3",
   "version": "3.6.6"
  }
 },
 "nbformat": 4,
 "nbformat_minor": 2
}
